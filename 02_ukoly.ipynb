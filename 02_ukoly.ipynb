{
 "cells": [
  {
   "attachments": {},
   "cell_type": "markdown",
   "metadata": {},
   "source": [
    "# Prostory jmen a obor platnosti proměnných:\n",
    "- Upravte funkci nalézající prvočísla tak, aby ukládala již spočítané prvočísla do listu v defaultním argumentu funkce. \n"
   ]
  },
  {
   "cell_type": "code",
   "execution_count": 4,
   "metadata": {},
   "outputs": [],
   "source": [
    "import math\n",
    "def prvocisla(n):\n",
    "    def test_prvocisla(j):\n",
    "        test = True\n",
    "        i = 2\n",
    "        while i <= math.sqrt(j):\n",
    "            if j % i == 0:\n",
    "                test =False\n",
    "                break\n",
    "            else: \n",
    "                i += 1\n",
    "        return test\n",
    "    seznam_prvocisel = []\n",
    "    k = 2\n",
    "    while  len(seznam_prvocisel) < n:\n",
    "        if test_prvocisla(k):\n",
    "            seznam_prvocisel.append(k)\n",
    "        k += 1\n",
    "    return seznam_prvocisel\n"
   ]
  },
  {
   "cell_type": "code",
   "execution_count": 5,
   "metadata": {},
   "outputs": [
    {
     "data": {
      "text/plain": [
       "[2, 3, 5, 7, 11, 13, 17, 19, 23, 29]"
      ]
     },
     "execution_count": 5,
     "metadata": {},
     "output_type": "execute_result"
    }
   ],
   "source": [
    "prvocisla(10)"
   ]
  },
  {
   "attachments": {},
   "cell_type": "markdown",
   "metadata": {},
   "source": [
    "\n",
    "# Jupyter magics:\n",
    "- použijte funkci %%writefile a pomocí ní (a kopie funkcí z posledního DU) vytvořte .py soubor sloužící jako modul mající tři funkce viz minulý DU\n",
    "- Použijte magic příkazy %time %timeit %%time a %%timeit k měření času běhu různých částí kódu (například funkcí z minulého DU).\n"
   ]
  },
  {
   "cell_type": "code",
   "execution_count": 4,
   "metadata": {},
   "outputs": [
    {
     "name": "stdout",
     "output_type": "stream",
     "text": [
      "Overwriting modul_ze_tri_funkci.py\n"
     ]
    }
   ],
   "source": [
    "%%writefile modul_ze_tri_funkci.py\n",
    "# Výpočet druhé odmocniny pomocí prostých iterací\n",
    "def druha_odmocnina(cislo, pocet_iteraci):\n",
    "    hodnota = cislo #odmocnovane cislo jako nulty clen iteracni posloupnosti\n",
    "    for j in range(pocet_iteraci): #cyklus zajistujici vypocet odmocniny jako pevneho bodu kontraktivniho zobrazeni\n",
    "        hodnota = (cislo/hodnota+hodnota)/2\n",
    "    return hodnota\n",
    "# Výpočet obsahu vepsaných úhelníků\n",
    "def obsaheuler(pocet_iteraci):\n",
    "    strana = 1  \n",
    "    vyska =  druha_odmocnina(3, 100)/2 #vyska v sestiuhelniku\n",
    "    for j in range(pocet_iteraci):\n",
    "        strana = druha_odmocnina((strana/2)**2+(1-vyska)**2, 100) #vypocet zakladny\n",
    "        vyska =  druha_odmocnina(1-(strana/2)**2, 100)\n",
    "    return 6*(2**pocet_iteraci)*strana*vyska/2 #funkce vraci obsah vepsaneho 6*2**pocet_iteraci uhelnika\n",
    "# Součet řady vedoucí k aproximaci pí\n",
    "def obsahnewton(pocet_clenu):\n",
    "    a_i=1/16 #stanoveni prvniho clenu\n",
    "    soucet=(1/3)*a_i #soucet pro i=1\n",
    "    for i in range(2,pocet_clenu+1):  \n",
    "        a_i=(1/4)*a_i*(2*i-3)/(2*i) #vypocet nasledujiciho koeficientu\n",
    "        soucet += (1/(2*i+1))*a_i   #dalsi scitanec k souctu rady\n",
    "    return 12*(1/2-druha_odmocnina(3,1000)/8-soucet) #funkce vraci aproximaci cisla pi pomoci n clenu rady"
   ]
  },
  {
   "cell_type": "code",
   "execution_count": 6,
   "metadata": {},
   "outputs": [
    {
     "name": "stdout",
     "output_type": "stream",
     "text": [
      "CPU times: total: 0 ns\n",
      "Wall time: 0 ns\n",
      "2.19 µs ± 385 ns per loop (mean ± std. dev. of 7 runs, 100,000 loops each)\n"
     ]
    }
   ],
   "source": [
    "import modul_ze_tri_funkci as mtrif\n",
    "%time mtrif.druha_odmocnina(2,8)\n",
    "%timeit mtrif.druha_odmocnina(2,8)"
   ]
  },
  {
   "cell_type": "code",
   "execution_count": 7,
   "metadata": {},
   "outputs": [
    {
     "name": "stdout",
     "output_type": "stream",
     "text": [
      "CPU times: total: 0 ns\n",
      "Wall time: 4.07 ms\n"
     ]
    },
    {
     "data": {
      "text/plain": [
       "3.1415926535897936"
      ]
     },
     "execution_count": 7,
     "metadata": {},
     "output_type": "execute_result"
    }
   ],
   "source": [
    "%%time\n",
    "mtrif.obsaheuler(50)\n",
    "mtrif.obsahnewton(50)"
   ]
  },
  {
   "cell_type": "code",
   "execution_count": 8,
   "metadata": {},
   "outputs": [
    {
     "name": "stdout",
     "output_type": "stream",
     "text": [
      "2.22 ms ± 1 ms per loop (mean ± std. dev. of 7 runs, 1,000 loops each)\n"
     ]
    }
   ],
   "source": [
    "%%timeit\n",
    "mtrif.obsaheuler(50)\n",
    "mtrif.obsahnewton(50)"
   ]
  },
  {
   "cell_type": "markdown",
   "metadata": {},
   "source": [
    "\n",
    "# Práce s řetězci:\n",
    "\n",
    "- Použíjte funkce z minulého úkolu a v cyklu spočtěte $\\pi$ s různým $n$. Pomocí f-strings vypište výsledky ve formátu \"n = 5, pi = 3.14159, počet správných cifer = 5\".\n"
   ]
  },
  {
   "cell_type": "code",
   "execution_count": 9,
   "metadata": {},
   "outputs": [
    {
     "name": "stdout",
     "output_type": "stream",
     "text": [
      "n=2, pi=3.1058285412302484, pocet správných cifer=2\n",
      "n=3, pi=3.1326286132812378, pocet správných cifer=2\n",
      "n=4, pi=3.1393502030468676, pocet správných cifer=2\n",
      "n=5, pi=3.1410319508905102, pocet správných cifer=4\n"
     ]
    }
   ],
   "source": [
    "n=5 # Výpis odhadu pí pomocí obsahů n-úhelníků\n",
    "for m in range(2,n+1):\n",
    "    j = True\n",
    "    l = 1 \n",
    "    while str(mtrif.obsaheuler(m))[:l] == str(math.pi)[:l] :\n",
    "        l += 1\n",
    "    print(f\"n={m}, pi={mtrif.obsaheuler(m):.16f}, pocet správných cifer={l-2}\")\n"
   ]
  },
  {
   "cell_type": "code",
   "execution_count": 10,
   "metadata": {},
   "outputs": [
    {
     "name": "stdout",
     "output_type": "stream",
     "text": [
      "n=2, pi=3.1425487886466845, pocet správných cifer=3\n",
      "n=3, pi=3.1417117350752557, pocet správných cifer=4\n",
      "n=4, pi=3.1416100098148387, pocet správných cifer=4\n",
      "n=5, pi=3.1415954446070975, pocet správných cifer=6\n",
      "n=6, pi=3.1415931337808694, pocet správných cifer=6\n",
      "n=7, pi=3.1415927403902137, pocet správných cifer=7\n",
      "n=8, pi=3.1415926698836163, pocet správných cifer=8\n",
      "n=9, pi=3.1415926567409396, pocet správných cifer=9\n"
     ]
    }
   ],
   "source": [
    "n=9 # Výpis odhadu pí pomocí řady\n",
    "for m in range(2,n+1):\n",
    "    j = True\n",
    "    l = 1 \n",
    "    while str(mtrif.obsahnewton(m))[:l] == str(math.pi)[:l] :\n",
    "          l += 1 \n",
    "    #print(f\"n={n}, pi={mtrif.obsaheuler(n):.10f}, pocet správných cifer={1+abs(int(math.log10((abs(mtrif.obsaheuler(n)-math.pi)))))}\")\n",
    "    print(f\"n={m}, pi={mtrif.obsahnewton(m):.16f}, pocet správných cifer={l-2}\")"
   ]
  },
  {
   "cell_type": "markdown",
   "metadata": {},
   "source": [
    "\n",
    "# Generátory a iterátory:\n",
    "\n",
    "- Napište generátor (funkci), který vytváří Fibonacciho posloupnost a vrátí prvních $n$ členů.\n"
   ]
  },
  {
   "cell_type": "code",
   "execution_count": 11,
   "metadata": {},
   "outputs": [],
   "source": [
    "def generator_fibonacci(n):\n",
    "    for j in range(n):\n",
    "        yield j+(j+1)"
   ]
  },
  {
   "cell_type": "code",
   "execution_count": 12,
   "metadata": {},
   "outputs": [
    {
     "name": "stdout",
     "output_type": "stream",
     "text": [
      "1\n",
      "3\n",
      "5\n",
      "7\n",
      "9\n",
      "11\n",
      "13\n",
      "15\n"
     ]
    }
   ],
   "source": [
    "n = 8\n",
    "fibonacci_gen = generator_fibonacci(n)\n",
    "for j in range(n):\n",
    "    print(next(fibonacci_gen))"
   ]
  },
  {
   "cell_type": "markdown",
   "metadata": {},
   "source": [
    "\n",
    "# List comprehension:\n",
    "- Vytvořte seznam čísel od 1 do 10 pomocí list comprehension.\n",
    "- Vytvořte seznam druhých mocnin čísel od 1 do 10 pomocí list comprehension.\n",
    "- Vytvořte seznam prvočísel od 1 do 100 pomocí list comprehension. Hint (použijte funkci all() na generátor testující dělitelnost).\n"
   ]
  },
  {
   "cell_type": "code",
   "execution_count": 13,
   "metadata": {},
   "outputs": [],
   "source": [
    "s1 = [i for i in range(1,11)]\n",
    "s2 = [j**2 for j in range(1,11)]\n",
    "s3 = [k for k in range(2,101) if all([False for j in range(2,k-1) if k % j == 0])]\n"
   ]
  },
  {
   "cell_type": "code",
   "execution_count": 14,
   "metadata": {},
   "outputs": [
    {
     "name": "stdout",
     "output_type": "stream",
     "text": [
      "[1, 2, 3, 4, 5, 6, 7, 8, 9, 10]\n",
      "[1, 4, 9, 16, 25, 36, 49, 64, 81, 100]\n",
      "[2, 3, 5, 7, 11, 13, 17, 19, 23, 29, 31, 37, 41, 43, 47, 53, 59, 61, 67, 71, 73, 79, 83, 89, 97]\n"
     ]
    }
   ],
   "source": [
    "print(s1)\n",
    "print(s2)\n",
    "print(s3)"
   ]
  },
  {
   "cell_type": "markdown",
   "metadata": {},
   "source": [
    "\n",
    "# Práce se soubory:\n",
    "- Pomocí %%writefile vytvořte soubor s nějakým textem.\n",
    "- Otevřete soubor pro čtení a vypište jeho obsah.\n",
    "- Otevřete jiný soubor pro zápis a napište do něj textový řetězec.\n",
    "- Pomocí f-strings zapište do souboru tabulku čísel od 1 do 10, jejich druhých mocnin a jejich druhých odmocnin."
   ]
  },
  {
   "cell_type": "code",
   "execution_count": 15,
   "metadata": {},
   "outputs": [
    {
     "name": "stdout",
     "output_type": "stream",
     "text": [
      "Overwriting dutext.txt\n"
     ]
    }
   ],
   "source": [
    "%%writefile dutext.txt\n",
    "Soubor s nějakým textem, co přijde uložit.\n",
    "Další a poslední řádek."
   ]
  },
  {
   "cell_type": "code",
   "execution_count": 16,
   "metadata": {},
   "outputs": [
    {
     "name": "stdout",
     "output_type": "stream",
     "text": [
      "Soubor s nějakým textem, co přijde uložit.\n",
      "Další a poslední řádek.\n",
      "\n"
     ]
    }
   ],
   "source": [
    "ctu = open(\"dutext.txt\",\"r\")\n",
    "print(ctu.read())\n",
    "ctu.close()"
   ]
  },
  {
   "cell_type": "code",
   "execution_count": 17,
   "metadata": {},
   "outputs": [],
   "source": [
    "with open(\"pro_zapis.txt\", \"w\", newline=\"\") as duzapis:\n",
    "    duzapis.write(\"Vkládám textový řetězec \\n\" \"o dvou řádcích\")\n",
    "    duzapis.close()\n",
    "    "
   ]
  },
  {
   "cell_type": "code",
   "execution_count": 18,
   "metadata": {},
   "outputs": [
    {
     "name": "stdout",
     "output_type": "stream",
     "text": [
      "Vkládám textový řetězec \n",
      "o dvou řádcích\n"
     ]
    }
   ],
   "source": [
    "ctu = open(\"pro_zapis.txt\",\"r\")\n",
    "print(ctu.read())\n",
    "ctu.close()"
   ]
  },
  {
   "cell_type": "code",
   "execution_count": 19,
   "metadata": {},
   "outputs": [],
   "source": [
    "with open(\"tabulka.txt\", \"w\", newline=\"\") as duzapis:\n",
    "    for i in range(1, 11):\n",
    "        duzapis.write(f\"{i:>4}, {i*i:>4},   {str(math.sqrt(i))[:8]} \\n\")\n",
    "    duzapis.close()\n",
    "    \n",
    "    "
   ]
  },
  {
   "cell_type": "code",
   "execution_count": 20,
   "metadata": {},
   "outputs": [
    {
     "name": "stdout",
     "output_type": "stream",
     "text": [
      "   1,    1,   1.0 \n",
      "   2,    4,   1.414213 \n",
      "   3,    9,   1.732050 \n",
      "   4,   16,   2.0 \n",
      "   5,   25,   2.236067 \n",
      "   6,   36,   2.449489 \n",
      "   7,   49,   2.645751 \n",
      "   8,   64,   2.828427 \n",
      "   9,   81,   3.0 \n",
      "  10,  100,   3.162277 \n",
      "\n"
     ]
    }
   ],
   "source": [
    "ctu = open(\"tabulka.txt\",\"r\")\n",
    "print(ctu.read())\n",
    "ctu.close()"
   ]
  },
  {
   "attachments": {},
   "cell_type": "markdown",
   "metadata": {},
   "source": [
    "# Domácí úkol:\n",
    "Pomocí vlastních tříd a dědičnosti vytvořte \"soubor tříd\" = nástroj pro derivaci funkcí.\n",
    "\n",
    "Konkrétněji:\n",
    "- Vytvořte třídu **Operator**\n",
    "    - Třída bude mít metody:\n",
    "        - `__init__()` - inicializuje operátor (zde stačí `pass`)\n",
    "        - `__str__()` - vrací řetězec reprezentující operátor\n",
    "        - `__repr__()` - vrací řetězec reprezentující operátor\n",
    "- Vytvořte třídu **BinaryOperator**, která bude dědit od třídy Operator\n",
    "    - Třída bude mít atributy:\n",
    "        - `levy_argument` - levý operand\n",
    "        - `pravy_argument` - pravý operand\n",
    "    - Třída bude mít metody:\n",
    "        - `__init__()` - inicializuje operátor, přiřadí argumenty\n",
    "        - `__str__()` - vrací řetězec reprezentující operátor\n",
    "        - `__repr__()` - vrací řetězec reprezentující operátor\n",
    "        - `diff()` - vrací derivaci operátoru\n",
    "- Vytvořte třídu **UnaryOperator**, která bude dědit od třídy Operator\n",
    "    - Třída bude mít atributy:\n",
    "        - `argument` - argument funkce \n",
    "    - Třída bude mít metody:\n",
    "        - `__init__()` - inicializuje operátor, přiřadí argument\n",
    "        - `__str__()` - vrací řetězec reprezentující operátor\n",
    "        - `__repr__()` - vrací řetězec reprezentující operátor\n",
    "        - `diff()` - vrací derivaci operátoru\n",
    "\n",
    "Pro počítání derivací použijte standardní pravidla:\n",
    "- derivace součtu je součet derivací\n",
    "- pravidlo pro derivaci součinu\n",
    "- derivace funkce je derivovaná funkce násobená derivovaným argumentem\n",
    "\n",
    "Pro **BinaryOperator** a **UnaryOperator** implementujte také metody implementující standardní operátory:\n",
    "- `__add__()` - implementuje operátor `+`\n",
    "- `__sub__()` - implementuje operátor `-`\n",
    "- `__mul__()` - implementuje operátor `*`\n",
    "\n",
    "Pro **BinaryOperator** implementujte dvě dceřiné třídy:\n",
    "- **Addition** - implementuje operátor `+`\n",
    "- **Multiplication** - implementuje operátor `*`\n",
    "\n",
    "Pro **UnaryOperator** implementujte tyto dceřiné třídy:\n",
    "- **exp** - implementuje funkci `exp`\n",
    "- **sin** - implementuje funkci `sin`\n",
    "- **cos** - implementuje funkci `cos`\n",
    "- **ln** - implementuje funkci `ln`\n",
    "- **frc** - implementuje funkci `1/x`\n",
    "- **identity** - implementuje identitu `x`\n",
    "- **cst** - implementuje konstantu `c`\n",
    "- **mocnina** - implementuje mocninu `x^n`\n",
    "\n",
    "U všech funckí implementujte adekvátně metodu `diff()` a `__str__()`, tak aby se funkce vypisovaly v přehledné podobě.\n",
    "\n",
    "Ozkoušejte na následujících funkcích:\n",
    "- $sin(x + cos(x*x)) + 1$\n",
    "- $x^2 + 2x + 1 + 2x^2$\n",
    "- $x^2 + 2x + exp(x)$"
   ]
  },
  {
   "cell_type": "code",
   "execution_count": 27,
   "metadata": {},
   "outputs": [],
   "source": [
    "class Operator:\n",
    "    def __init__(self):\n",
    "        pass\n",
    "    \n",
    "    def __str__(self):\n",
    "        return type(self).__name__\n",
    "    \n",
    "    def __repr__(self):\n",
    "        return self.__str__()\n",
    "    \n",
    "    def diff(self):\n",
    "        pass\n",
    "    \n",
    "    def __add__(self, other):\n",
    "        return Addition(self,other) #TODO(použijte Addition)\n",
    "        \n",
    "    \n",
    "    def __sub__(self, other):\n",
    "        return Addition(self,Multiplication(cst(-1),other)) # TODO (použijte Addition a Multiplication se zápornou konstantu)\n",
    "        \n",
    "    def __mul__(self, other):\n",
    "        return Multiplication(self, other) # TODO (použijte Multiplication)\n",
    "       \n",
    "    \n",
    "class BinaryOperator(Operator):\n",
    "    def __init__(self, levy_argument, pravy_argument):\n",
    "        self.levy_argument = levy_argument\n",
    "        self.pravy_argument = pravy_argument\n",
    "        \n",
    "class UnaryOperator(Operator):\n",
    "    def __init__(self, argument):\n",
    "            self.argument = argument\n",
    "    \n",
    "    def __str__(self):\n",
    "        return type(self).__name__ + \"(\" + str(self.argument) + \")\"\n",
    "    \n",
    "class Addition(BinaryOperator):\n",
    "    def __str__(self):\n",
    "        #return \"(\" + str(self.levy_argument) + \"+\" +str(self.pravy_argument) +\")\" # TODO vypíšeme něco jako (levy_argument)+(pravy_argument)\n",
    "        return  str(self.levy_argument)  + \"+\"  + str(self.pravy_argument)  # TODO vypíšeme něco jako (levy_argument)+(pravy_argument)\n",
    "        \n",
    "    def diff(self):\n",
    "        return Addition(self.levy_argument.diff(),self.pravy_argument.diff())# TODO\n",
    "        #pass\n",
    "\n",
    "class Multiplication(BinaryOperator):\n",
    "    def __str__(self):\n",
    "        return \"(\" + str(self.levy_argument) + \")\" + \"*\" + \"(\" + str(self.pravy_argument) + \")\"  # TODO vypíšeme něco jako (levy_argument)*(pravy_argument)\n",
    "    \n",
    "    def diff(self):\n",
    "        return Addition(Multiplication(self.levy_argument.diff(),self.pravy_argument),Multiplication(self.levy_argument,self.pravy_argument.diff()))# TODO\n",
    "       \n",
    "class cst(UnaryOperator):\n",
    "    def __init__(self, value):\n",
    "        self.value = value\n",
    "    \n",
    "    def __str__(self):\n",
    "        return  str(self.value)  # TODO vypíšeme něco jako value\n",
    "       \n",
    "    def diff(self):\n",
    "        return cst(0)# TODO\n",
    "        \n",
    "class identity(UnaryOperator):\n",
    "    def __init__(self):\n",
    "        pass\n",
    "    def __str__(self):\n",
    "        return \"x\" # TODO vypíšeme něco jako x   \n",
    "        \n",
    "    def diff(self):\n",
    "        return cst(1)     # TODO\n",
    "               \n",
    "class mocnina(UnaryOperator):\n",
    "    def __init__(self, argument, exponent):\n",
    "        self.argument = argument\n",
    "        self.exponent = exponent\n",
    "    def __str__(self):\n",
    "        return  str(self.argument) + \"^\" + \"(\" + str(self.exponent) + \")\"# !!! Tady jsem přidal závorky, vypadalo by asi blbě x^-2 ....Lépe: x^(-2) !!!# TODO vypíšeme něco jako argument^exponent\n",
    "        \n",
    "    def diff(self):\n",
    "        return Multiplication(Multiplication(self.exponent,mocnina(self.argument,self.exponent-1)),self.argument.diff()) # TODO\n",
    "     \n",
    "class sin(UnaryOperator):\n",
    "    def diff(self):\n",
    "        return Multiplication(cos(self.argument),self.argument.diff()) # TODO\n",
    "        \n",
    "class cos(UnaryOperator):\n",
    "    def diff(self):\n",
    "        return Multiplication(Multiplication(cst(-1),sin(self.argument)),self.argument.diff()) # TODO\n",
    "        \n",
    "class exp(UnaryOperator):\n",
    "    def diff(self):\n",
    "        return Multiplication(exp(self.argument),self.argument.diff())\n",
    "        # TODO        \n",
    "\n",
    "class ln(UnaryOperator):\n",
    "    def diff(self):\n",
    "        return Multiplication(mocnina(self.argument,cst(-1)),self.argument.diff())\n",
    "    # TODO        \n",
    "\n",
    "class frc(UnaryOperator):\n",
    "    def __str__(self):\n",
    "        return \"1/(\" + str(self.argument) + \")\"\n",
    "    def diff(self):\n",
    "        return Multiplication(Multiplication(cst(-1),mocnina(self.argument,cst(-2))),self.argument.diff())\n",
    "        # TODO         \n",
    "        \n"
   ]
  },
  {
   "cell_type": "code",
   "execution_count": 24,
   "metadata": {},
   "outputs": [
    {
     "name": "stdout",
     "output_type": "stream",
     "text": [
      "sin(x+cos((x)*(x)))+1\n",
      "(cos(x+cos((x)*(x))))*(1+((-1)*(sin((x)*(x))))*((1)*(x)+(x)*(1)))+0\n"
     ]
    }
   ],
   "source": [
    "# takto by se to mělo používat\n",
    "x = identity()\n",
    "# sin(x + cos(x*x)) + 1\n",
    "f1 = sin(x + cos(x*x)) + cst(1)\n",
    "print(f1)\n",
    "print(f1.diff())"
   ]
  },
  {
   "attachments": {},
   "cell_type": "markdown",
   "metadata": {},
   "source": [
    "můj výstup byl:\n",
    "\n",
    "`sin(x + cos((x)*(x))) + 1`\n",
    "\n",
    "`(cos(x + cos((x)*(x))))*(1 + ((-1)*(sin((x)*(x))))*((1)*(x) + (x)*(1))) + 0`"
   ]
  },
  {
   "cell_type": "code",
   "execution_count": 25,
   "metadata": {},
   "outputs": [
    {
     "name": "stdout",
     "output_type": "stream",
     "text": [
      "x^(2)+(2)*(x)+1+(2)*(x^(2))\n",
      "((2)*(x^(1)))*(1)+(0)*(x)+(2)*(1)+0+(0)*(x^(2))+(2)*(((2)*(x^(1)))*(1))\n"
     ]
    }
   ],
   "source": [
    "x = identity()\n",
    "# x ^ 2 + 2x + 1 + 2x ^ 2\n",
    "f2 = mocnina(x,2) + cst(2)*x + cst(1) + cst(2)*mocnina(x,2)\n",
    "print(f2)\n",
    "print(f2.diff())\n"
   ]
  },
  {
   "attachments": {},
   "cell_type": "markdown",
   "metadata": {},
   "source": [
    "můj výstup byl:\n",
    "\n",
    "`(x)^2 + (2)*(x) + 1 + (2)*((x)^2)`\n",
    "\n",
    "`((2)*((x)^1))*(1) + (0)*(x) + (2)*(1) + 0 + (0)*((x)^2) + (2)*(((2)*((x)^1))*(1))`"
   ]
  },
  {
   "cell_type": "code",
   "execution_count": 26,
   "metadata": {},
   "outputs": [
    {
     "name": "stdout",
     "output_type": "stream",
     "text": [
      "x^(2)+(2)*(x)+exp(x)\n",
      "((2)*(x^(1)))*(1)+(0)*(x)+(2)*(1)+(exp(x))*(1)\n"
     ]
    }
   ],
   "source": [
    "x = identity()\n",
    "# x ^ 2 + 2x + exp(x)\n",
    "f3 = mocnina(x,2) + cst(2)*x + exp(x)\n",
    "print(f3)\n",
    "print(f3.diff())\n"
   ]
  },
  {
   "attachments": {},
   "cell_type": "markdown",
   "metadata": {},
   "source": [
    "můj výstup byl:\n",
    "\n",
    "`(x)^2 + (2)*(x) + exp(x)`\n",
    "\n",
    "`((2)*((x)^1))*(1) + (0)*(x) + (2)*(1) + (exp(x))*(1)`\n"
   ]
  },
  {
   "cell_type": "code",
   "execution_count": 28,
   "metadata": {},
   "outputs": [
    {
     "name": "stdout",
     "output_type": "stream",
     "text": [
      "1/(sin(x))\n",
      "((-1)*(sin(x)^(-2)))*((cos(x))*(1))\n"
     ]
    }
   ],
   "source": [
    "f4 = frc(sin(x))\n",
    "print(f4)\n",
    "print(f4.diff())"
   ]
  },
  {
   "attachments": {},
   "cell_type": "markdown",
   "metadata": {},
   "source": [
    "# Bonusový úkol:\n",
    "Doplňte ke všem třídám metodu `simplify()`, která provede zjednodušení výrazu. Například:\n",
    "- součet s nulou vrátí druhý operand\n",
    "- součin s nulou vrátí nulu\n",
    "- mocnina s exponentem 0 vrátí 1\n",
    "- mocnina s exponentem 1 vrátí první argument\n",
    "- součín dvou stejných argumentů vrátí mocninu s exponentem 2\n",
    "- součin konstant vrátí konstantu se součinem\n",
    "- ..."
   ]
  },
  {
   "cell_type": "markdown",
   "metadata": {},
   "source": []
  }
 ],
 "metadata": {
  "kernelspec": {
   "display_name": "Python 3",
   "language": "python",
   "name": "python3"
  },
  "language_info": {
   "codemirror_mode": {
    "name": "ipython",
    "version": 3
   },
   "file_extension": ".py",
   "mimetype": "text/x-python",
   "name": "python",
   "nbconvert_exporter": "python",
   "pygments_lexer": "ipython3",
   "version": "3.9.16"
  },
  "orig_nbformat": 4,
  "vscode": {
   "interpreter": {
    "hash": "e7370f93d1d0cde622a1f8e1c04877d8463912d04d973331ad4851f04de6915a"
   }
  }
 },
 "nbformat": 4,
 "nbformat_minor": 2
}
