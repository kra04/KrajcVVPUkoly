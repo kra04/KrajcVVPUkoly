{
 "cells": [
  {
   "cell_type": "code",
   "execution_count": 13,
   "metadata": {},
   "outputs": [],
   "source": [
    "import math "
   ]
  },
  {
   "cell_type": "code",
   "execution_count": 14,
   "metadata": {},
   "outputs": [],
   "source": [
    "# Výpočet druhé odmocniny pomocí prostých iterací\n",
    "def druha_odmocnina(cislo, pocet_iteraci):\n",
    "    hodnota = cislo #odmocnovane cislo jako nulty clen iteracni posloupnosti\n",
    "    for j in range(pocet_iteraci): #cyklus zajistujici vypocet odmocniny jako pevneho bodu kontraktivniho zobrazeni\n",
    "        hodnota = (cislo/hodnota+hodnota)/2\n",
    "    return hodnota"
   ]
  },
  {
   "cell_type": "code",
   "execution_count": 15,
   "metadata": {},
   "outputs": [
    {
     "name": "stdout",
     "output_type": "stream",
     "text": [
      "0.0\n"
     ]
    }
   ],
   "source": [
    "print(druha_odmocnina(656661616,100)-math.sqrt(656661616))"
   ]
  },
  {
   "cell_type": "code",
   "execution_count": 16,
   "metadata": {},
   "outputs": [
    {
     "name": "stdout",
     "output_type": "stream",
     "text": [
      "1.3877787807814457e-17\n"
     ]
    }
   ],
   "source": [
    "print(druha_odmocnina(0.00656661616,100)-math.sqrt(0.00656661616))"
   ]
  },
  {
   "attachments": {},
   "cell_type": "markdown",
   "metadata": {},
   "source": [
    "Tak to vypadá, že 100 iterací k výpočtu $ \\sqrt{} $ s rozumnou přesností většinou stačí..."
   ]
  },
  {
   "cell_type": "code",
   "execution_count": 17,
   "metadata": {},
   "outputs": [],
   "source": [
    "# Funkce jedné iterace, je použita při výpočtu druhé odmocniny pomocí rekurze\n",
    "def odmocnina_jedna_iterace(cislo,hodnota):\n",
    "    hodnota = ((cislo/hodnota)+hodnota)/2\n",
    "    return hodnota"
   ]
  },
  {
   "cell_type": "code",
   "execution_count": 18,
   "metadata": {},
   "outputs": [],
   "source": [
    "# Druhá odmocnina pomocí rekurze\n",
    "def druha_odmocnina_rekurze(cislo,pocet_iteraci,hodnota):\n",
    "    if pocet_iteraci == 1:\n",
    "        return hodnota\n",
    "    return druha_odmocnina_rekurze(cislo,pocet_iteraci-1,odmocnina_jedna_iterace(cislo,hodnota))\n"
   ]
  },
  {
   "cell_type": "code",
   "execution_count": 19,
   "metadata": {},
   "outputs": [],
   "source": [
    "# Výpočet obsahu vepsaných úhelníků\n",
    "def obsaheuler(pocet_iteraci):\n",
    "    strana = 1  \n",
    "    vyska =  druha_odmocnina(3, 100)/2 #vyska v sestiuhelniku\n",
    "    for j in range(pocet_iteraci):\n",
    "        strana = druha_odmocnina((strana/2)**2+(1-vyska)**2, 100) #vypocet zakladny\n",
    "        vyska =  druha_odmocnina(1-(strana/2)**2, 100)\n",
    "    return 6*(2**pocet_iteraci)*strana*vyska/2 #funkce vraci obsah vepsaneho 6*2**pocet_iteraci uhelnika"
   ]
  },
  {
   "cell_type": "code",
   "execution_count": 20,
   "metadata": {},
   "outputs": [
    {
     "name": "stdout",
     "output_type": "stream",
     "text": [
      "3.1415926450336906\n"
     ]
    }
   ],
   "source": [
    "print(obsaheuler(13))"
   ]
  },
  {
   "cell_type": "code",
   "execution_count": 21,
   "metadata": {},
   "outputs": [
    {
     "name": "stdout",
     "output_type": "stream",
     "text": [
      "Chyba= 5.48e-07 .Jde o 12288 -úhelník. Pocet iterací= 10\n"
     ]
    }
   ],
   "source": [
    "# Odhad počtu iterací k dosažení zadané chyby\n",
    "j=1\n",
    "chyba = 1\n",
    "while chyba > 10**(-6):\n",
    "    chyba = abs(obsaheuler(j) - math.pi)\n",
    "    j += 1\n",
    "else : print (\"Chyba=\",round(chyba,9),\".Jde o\", 6*2**j,\"-úhelník. Pocet iterací=\",j-1)"
   ]
  },
  {
   "cell_type": "code",
   "execution_count": 22,
   "metadata": {},
   "outputs": [],
   "source": [
    "# Součet řady vedoucí k aproximaci pí\n",
    "def obsahnewton(pocet_clenu):\n",
    "    a_i=1/16 #stanoveni prvniho clenu\n",
    "    soucet=(1/3)*a_i #soucet pro i=1\n",
    "    for i in range(2,pocet_clenu+1):  \n",
    "        a_i=(1/4)*a_i*(2*i-3)/(2*i) #vypocet nasledujiciho koeficientu\n",
    "        soucet += (1/(2*i+1))*a_i   #dalsi scitanec k souctu rady\n",
    "    return 12*(1/2-druha_odmocnina(3,1000)/8-soucet) #funkce vraci aproximaci cisla pi pomoci n clenu rady\n"
   ]
  },
  {
   "cell_type": "code",
   "execution_count": 23,
   "metadata": {},
   "outputs": [
    {
     "name": "stdout",
     "output_type": "stream",
     "text": [
      "Chyba= 4.8e-07 . Pocet členů: 6\n"
     ]
    }
   ],
   "source": [
    "# Odhad počtu sčítanců k dosažení zadané chyby\n",
    "j=1\n",
    "chyba = 1\n",
    "while chyba > 10**(-6):\n",
    "    chyba = abs(obsahnewton(j) - math.pi)\n",
    "    j += 1\n",
    "else : print (\"Chyba=\",round(chyba,9),\". Pocet členů:\",j-1)"
   ]
  }
 ],
 "metadata": {
  "kernelspec": {
   "display_name": "base",
   "language": "python",
   "name": "python3"
  },
  "language_info": {
   "codemirror_mode": {
    "name": "ipython",
    "version": 3
   },
   "file_extension": ".py",
   "mimetype": "text/x-python",
   "name": "python",
   "nbconvert_exporter": "python",
   "pygments_lexer": "ipython3",
   "version": "3.9.16"
  },
  "orig_nbformat": 4
 },
 "nbformat": 4,
 "nbformat_minor": 2
}
